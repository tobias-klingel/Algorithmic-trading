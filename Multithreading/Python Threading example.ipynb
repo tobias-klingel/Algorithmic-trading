{
 "cells": [
  {
   "cell_type": "code",
   "execution_count": 1,
   "metadata": {},
   "outputs": [],
   "source": [
    "import threading\n",
    "import queue\n",
    "import time"
   ]
  },
  {
   "cell_type": "code",
   "execution_count": 2,
   "metadata": {},
   "outputs": [],
   "source": [
    "#The function which is called X (e.g. 11) times\n",
    "def threadingTest(data,q):\n",
    "    #Do something....\n",
    "    txt='Hello, I am the thread with the number: '+ str(data)\n",
    "    print(txt)\n",
    "    q.put('Return: '+txt)\n"
   ]
  },
  {
   "cell_type": "code",
   "execution_count": 3,
   "metadata": {},
   "outputs": [
    {
     "name": "stdout",
     "output_type": "stream",
     "text": [
      "Hello, I am the thread with the number: 0\n",
      "Hello, I am the thread with the number: 1\n",
      "Hello, I am the thread with the number: 2\n",
      "Hello, I am the thread with the number: 3\n",
      "Hello, I am the thread with the number: 4\n",
      "Hello, I am the thread with the number: 5\n",
      "Hello, I am the thread with the number: 6\n",
      "Hello, I am the thread with the number: 7\n",
      "Hello, I am the thread with the number: 8\n",
      "Hello, I am the thread with the number: 9\n",
      "Hello, I am the thread with the number: 10\n"
     ]
    }
   ],
   "source": [
    "#The 'control function' to start all threads\n",
    "\n",
    "threads = list()\n",
    "q = queue.Queue() #Used to return data from a thread\n",
    "\n",
    "#Start 11 threads\n",
    "for i in range(11):\n",
    "    x = threading.Thread(target=threadingTest, args=(i,q))\n",
    "    threads.append(x)\n",
    "    x.start()\n",
    "    \n",
    "    time.sleep(1)"
   ]
  },
  {
   "cell_type": "code",
   "execution_count": 4,
   "metadata": {},
   "outputs": [
    {
     "name": "stdout",
     "output_type": "stream",
     "text": [
      "Return: Hello, I am the thread with the number: 0\n",
      "Return: Hello, I am the thread with the number: 1\n",
      "Return: Hello, I am the thread with the number: 2\n",
      "Return: Hello, I am the thread with the number: 3\n",
      "Return: Hello, I am the thread with the number: 4\n",
      "Return: Hello, I am the thread with the number: 5\n",
      "Return: Hello, I am the thread with the number: 6\n",
      "Return: Hello, I am the thread with the number: 7\n",
      "Return: Hello, I am the thread with the number: 8\n",
      "Return: Hello, I am the thread with the number: 9\n",
      "Return: Hello, I am the thread with the number: 10\n"
     ]
    }
   ],
   "source": [
    "#Used to return data\n",
    "while not q.empty():\n",
    "    print(q.get())"
   ]
  }
 ],
 "metadata": {
  "kernelspec": {
   "display_name": "Python 3",
   "language": "python",
   "name": "python3"
  },
  "language_info": {
   "codemirror_mode": {
    "name": "ipython",
    "version": 3
   },
   "file_extension": ".py",
   "mimetype": "text/x-python",
   "name": "python",
   "nbconvert_exporter": "python",
   "pygments_lexer": "ipython3",
   "version": "3.7.6"
  }
 },
 "nbformat": 4,
 "nbformat_minor": 4
}
